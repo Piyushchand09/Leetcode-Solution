{
 "cells": [
  {
   "cell_type": "code",
   "execution_count": 2,
   "id": "1c64e67f-c1ea-446b-a1f0-bd917138c710",
   "metadata": {},
   "outputs": [],
   "source": [
    "#  2873. Maximum Value of an Ordered Triplet I\n",
    "\n",
    "from typing import List \n",
    "\n",
    "class Solution:\n",
    "    def maximumTripletValue(self, nums: List[int]) -> int:\n",
    "        res = 0\n",
    "        N = len(nums) #Calculates the length of the list nums and stores it in N.\n",
    "        left = nums[0] #Initializes left with the first element of the list nums.\n",
    "        for j in range(1, N): \n",
    "            if nums[j] > left:# Checks if the current element (nums[j]) is greater than the current value of left.\n",
    "                left = nums[j] #If the condition is True, it updates left to the new maximum value.\n",
    "                continue\n",
    "            for k in range(j + 1, N):  \n",
    "                res = max(res, (left - nums[j]) * nums[k])  #left represents the maximum value found so far in the previous loop.\n",
    "                                                            #nums[j] is the current element in the first loop.\n",
    "                                                            #nums[k] is the next element in the second loop.\n",
    "        return res"
   ]
  }
 ],
 "metadata": {
  "kernelspec": {
   "display_name": "Python 3 (ipykernel)",
   "language": "python",
   "name": "python3"
  },
  "language_info": {
   "codemirror_mode": {
    "name": "ipython",
    "version": 3
   },
   "file_extension": ".py",
   "mimetype": "text/x-python",
   "name": "python",
   "nbconvert_exporter": "python",
   "pygments_lexer": "ipython3",
   "version": "3.12.4"
  }
 },
 "nbformat": 4,
 "nbformat_minor": 5
}
